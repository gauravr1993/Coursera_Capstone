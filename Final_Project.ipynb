{
 "cells": [
  {
   "cell_type": "code",
   "execution_count": 1,
   "metadata": {
    "collapsed": true
   },
   "outputs": [],
   "source": [
    "#Importing Libraries\n",
    "import requests\n",
    "from bs4 import BeautifulSoup\n",
    "import re\n",
    "import numpy as np\n",
    "import pandas as pd\n",
    "import matplotlib.pyplot as plt\n",
    "import seaborn as sns\n",
    "%matplotlib inline"
   ]
  },
  {
   "cell_type": "code",
   "execution_count": 4,
   "metadata": {
    "collapsed": false
   },
   "outputs": [
    {
     "data": {
      "text/plain": [
       "unicode"
      ]
     },
     "execution_count": 4,
     "metadata": {},
     "output_type": "execute_result"
    }
   ],
   "source": [
    "#Getting Data\n",
    "url = 'https://en.wikipedia.org/wiki/List_of_postal_codes_of_Canada:_M'\n",
    "resp = requests.get(url)\n",
    "html = resp.text\n",
    "type(html)"
   ]
  },
  {
   "cell_type": "code",
   "execution_count": 6,
   "metadata": {
    "collapsed": true
   },
   "outputs": [],
   "source": [
    "#Getting relevant data using BeautifulSoup\n",
    "soup = BeautifulSoup(html)\n",
    "pretty_soup = soup.prettify()"
   ]
  },
  {
   "cell_type": "code",
   "execution_count": 51,
   "metadata": {
    "collapsed": false
   },
   "outputs": [],
   "source": [
    "movie_name = soup.findAll('table')[0].findAll('tr')"
   ]
  },
  {
   "cell_type": "code",
   "execution_count": 53,
   "metadata": {
    "collapsed": false
   },
   "outputs": [],
   "source": [
    "#movie_name"
   ]
  },
  {
   "cell_type": "code",
   "execution_count": 80,
   "metadata": {
    "collapsed": false
   },
   "outputs": [],
   "source": [
    "table = soup.find('table', attrs={'class':'wikitable'})\n",
    "table_rows = table.find_all('tr')\n",
    "\n",
    "res = []\n",
    "for tr in table_rows:\n",
    "    td = tr.find_all('td')\n",
    "    row = [tr.text.strip() for tr in td if tr.text.strip()]\n",
    "    if row:\n",
    "        res.append(row)"
   ]
  },
  {
   "cell_type": "code",
   "execution_count": 88,
   "metadata": {
    "collapsed": false
   },
   "outputs": [
    {
     "name": "stdout",
     "output_type": "stream",
     "text": [
      "    PostalCode           Borough  \\\n",
      "2          M3A        North York   \n",
      "3          M4A        North York   \n",
      "4          M5A  Downtown Toronto   \n",
      "5          M5A  Downtown Toronto   \n",
      "6          M6A        North York   \n",
      "7          M6A        North York   \n",
      "8          M7A      Queen's Park   \n",
      "10         M9A         Etobicoke   \n",
      "11         M1B       Scarborough   \n",
      "12         M1B       Scarborough   \n",
      "14         M3B        North York   \n",
      "15         M4B         East York   \n",
      "16         M4B         East York   \n",
      "17         M5B  Downtown Toronto   \n",
      "18         M5B  Downtown Toronto   \n",
      "19         M6B        North York   \n",
      "22         M9B         Etobicoke   \n",
      "23         M9B         Etobicoke   \n",
      "24         M9B         Etobicoke   \n",
      "25         M9B         Etobicoke   \n",
      "26         M9B         Etobicoke   \n",
      "27         M1C       Scarborough   \n",
      "28         M1C       Scarborough   \n",
      "29         M1C       Scarborough   \n",
      "31         M3C        North York   \n",
      "32         M3C        North York   \n",
      "33         M4C         East York   \n",
      "34         M5C  Downtown Toronto   \n",
      "35         M6C              York   \n",
      "38         M9C         Etobicoke   \n",
      "..         ...               ...   \n",
      "235        M9V         Etobicoke   \n",
      "236        M1W       Scarborough   \n",
      "239        M4W  Downtown Toronto   \n",
      "240        M5W  Downtown Toronto   \n",
      "243        M8W         Etobicoke   \n",
      "244        M8W         Etobicoke   \n",
      "245        M9W         Etobicoke   \n",
      "246        M1X       Scarborough   \n",
      "249        M4X  Downtown Toronto   \n",
      "250        M4X  Downtown Toronto   \n",
      "251        M5X  Downtown Toronto   \n",
      "252        M5X  Downtown Toronto   \n",
      "255        M8X         Etobicoke   \n",
      "256        M8X         Etobicoke   \n",
      "257        M8X         Etobicoke   \n",
      "262        M4Y  Downtown Toronto   \n",
      "265        M7Y      East Toronto   \n",
      "266        M8Y         Etobicoke   \n",
      "267        M8Y         Etobicoke   \n",
      "268        M8Y         Etobicoke   \n",
      "269        M8Y         Etobicoke   \n",
      "270        M8Y         Etobicoke   \n",
      "271        M8Y         Etobicoke   \n",
      "272        M8Y         Etobicoke   \n",
      "273        M8Y         Etobicoke   \n",
      "282        M8Z         Etobicoke   \n",
      "283        M8Z         Etobicoke   \n",
      "284        M8Z         Etobicoke   \n",
      "285        M8Z         Etobicoke   \n",
      "286        M8Z         Etobicoke   \n",
      "\n",
      "                                         Neighbourhood  \n",
      "2                                            Parkwoods  \n",
      "3                                     Victoria Village  \n",
      "4                                         Harbourfront  \n",
      "5                                          Regent Park  \n",
      "6                                     Lawrence Heights  \n",
      "7                                       Lawrence Manor  \n",
      "8                                         Not assigned  \n",
      "10                                    Islington Avenue  \n",
      "11                                               Rouge  \n",
      "12                                             Malvern  \n",
      "14                                     Don Mills North  \n",
      "15                                    Woodbine Gardens  \n",
      "16                                       Parkview Hill  \n",
      "17                                             Ryerson  \n",
      "18                                     Garden District  \n",
      "19                                           Glencairn  \n",
      "22                                          Cloverdale  \n",
      "23                                           Islington  \n",
      "24                                        Martin Grove  \n",
      "25                                    Princess Gardens  \n",
      "26                                     West Deane Park  \n",
      "27                                      Highland Creek  \n",
      "28                                          Rouge Hill  \n",
      "29                                          Port Union  \n",
      "31                                     Flemingdon Park  \n",
      "32                                     Don Mills South  \n",
      "33                                    Woodbine Heights  \n",
      "34                                      St. James Town  \n",
      "35                                  Humewood-Cedarvale  \n",
      "38                                   Bloordale Gardens  \n",
      "..                                                 ...  \n",
      "235                                        Thistletown  \n",
      "236                                    L'Amoreaux West  \n",
      "239                                           Rosedale  \n",
      "240                    Stn A PO Boxes 25 The Esplanade  \n",
      "243                                          Alderwood  \n",
      "244                                        Long Branch  \n",
      "245                                          Northwest  \n",
      "246                                        Upper Rouge  \n",
      "249                                        Cabbagetown  \n",
      "250                                     St. James Town  \n",
      "251                               First Canadian Place  \n",
      "252                                   Underground city  \n",
      "255                                       The Kingsway  \n",
      "256                                    Montgomery Road  \n",
      "257                                     Old Mill North  \n",
      "262                               Church and Wellesley  \n",
      "265  Business Reply Mail Processing Centre 969 Eastern  \n",
      "266                                         Humber Bay  \n",
      "267                                   King's Mill Park  \n",
      "268                           Kingsway Park South East  \n",
      "269                                          Mimico NE  \n",
      "270                                     Old Mill South  \n",
      "271                                 The Queensway East  \n",
      "272                              Royal York South East  \n",
      "273                                           Sunnylea  \n",
      "282                           Kingsway Park South West  \n",
      "283                                          Mimico NW  \n",
      "284                                 The Queensway West  \n",
      "285                              Royal York South West  \n",
      "286                                     South of Bloor  \n",
      "\n",
      "[211 rows x 3 columns]\n"
     ]
    }
   ],
   "source": [
    "df = pd.DataFrame(res, columns=[\"PostalCode\", \"Borough\", \"Neighbourhood\"])\n",
    "print(df[df['Borough']!='Not assigned'])"
   ]
  }
 ],
 "metadata": {
  "kernelspec": {
   "display_name": "Python 2",
   "language": "python",
   "name": "python2"
  },
  "language_info": {
   "codemirror_mode": {
    "name": "ipython",
    "version": 2
   },
   "file_extension": ".py",
   "mimetype": "text/x-python",
   "name": "python",
   "nbconvert_exporter": "python",
   "pygments_lexer": "ipython2",
   "version": "2.7.11"
  }
 },
 "nbformat": 4,
 "nbformat_minor": 1
}
