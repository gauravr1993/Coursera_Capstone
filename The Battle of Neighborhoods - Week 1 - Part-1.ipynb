{
 "cells": [
  {
   "cell_type": "markdown",
   "metadata": {},
   "source": [
    "## The Battle of Neighborhoods - Week 1 - Part 1"
   ]
  },
  {
   "cell_type": "markdown",
   "metadata": {},
   "source": [
    "### Introduction and Business Problem"
   ]
  },
  {
   "cell_type": "markdown",
   "metadata": {},
   "source": [
    "#### Background:"
   ]
  },
  {
   "cell_type": "markdown",
   "metadata": {},
   "source": [
    "Delhi, officially the National Capital Territory of Delhi (NCT), is a city and a union territory of India containing New Delhi, the capital of India. It is mainly known for its cultural diversity whether it's for its festivals, people or its food. Delhi is a metropolitan city which means the market is highly competitive and cost of doing business is also one of the highest. Thus, any new business venture or expansion needs to be analysed carefully. The insights derived from analysis will give good understanding of the business environment which help in strategically targeting the market. This will help in reduction of risk."
   ]
  },
  {
   "cell_type": "markdown",
   "metadata": {},
   "source": [
    "### Problem Description:"
   ]
  },
  {
   "cell_type": "markdown",
   "metadata": {},
   "source": [
    "A restaurant, pub or cafe is a business which prepares and serves food and drink to customers in return for money, either paid before the meal, after the meal, or with an open account. Delhi is famous for its excellent and variety of cuisines. It's food culture includes an array of international cuisines influenced by the city's immigrant history. Along with Indian cuisine, a variety of international cuisines are popular among the residents. The fast living habits of Delhi's people has motivated the growth of street food outlets. High-profile restaurants have gained popularity in recent years as well."
   ]
  },
  {
   "cell_type": "markdown",
   "metadata": {},
   "source": [
    "Considering the variety, it is evident that to survive in such competitive market it is very important to startegically plan. Various factors need to be studied inorder to decide on the Location such as :<Br><Br>1. Population <Br>2. Types of Venues(Restaurants, Bar, Cafe etc) <Br>3. Quality of Venues(Ratings) <Br>4. Price Range(Cost effectiveness) <Br>5. Segmentation of the Market <Br>6. Highlights of a paticular venue <Br>7. Cuisines served at a particular place."
   ]
  },
  {
   "cell_type": "markdown",
   "metadata": {},
   "source": [
    "### Target Audience:\n",
    "So, any well-funded company who wishes to open a restaurant, cafe, pub or any eatery need to choose the correct location, types of services offered, a correct price-range, analyse competitors etc to successfully start a venture. \n",
    "This would interest anyone who wants to start a new venue in Delhi.\n",
    "This would also help user to have a better perspective of what every market and venue has to offer in terms of cuisines, services, quality and also the price-range."
   ]
  }
 ],
 "metadata": {
  "kernelspec": {
   "display_name": "Python 3",
   "language": "python",
   "name": "python3"
  },
  "language_info": {
   "codemirror_mode": {
    "name": "ipython",
    "version": 3
   },
   "file_extension": ".py",
   "mimetype": "text/x-python",
   "name": "python",
   "nbconvert_exporter": "python",
   "pygments_lexer": "ipython3",
   "version": "3.7.1"
  }
 },
 "nbformat": 4,
 "nbformat_minor": 2
}
