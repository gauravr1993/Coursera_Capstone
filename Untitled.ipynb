{
 "cells": [
  {
   "cell_type": "code",
   "execution_count": 3,
   "metadata": {},
   "outputs": [],
   "source": [
    "from tkinter import *\n",
    "\n",
    "OPTIONS = [\n",
    "\"Jan\",\n",
    "\"Feb\",\n",
    "\"Mar\"\n",
    "] #etc\n",
    "\n",
    "master = Tk()\n",
    "\n",
    "variable = StringVar(master)\n",
    "variable.set(OPTIONS[0]) # default value\n",
    "\n",
    "w = OptionMenu(master, variable, *OPTIONS)\n",
    "w.pack()\n",
    "\n",
    "def ok():\n",
    "    print (\"value is:\" + variable.get())\n",
    "\n",
    "button = Button(master, text=\"OK\", command=ok)\n",
    "button.pack()\n",
    "\n",
    "mainloop()"
   ]
  },
  {
   "cell_type": "code",
   "execution_count": null,
   "metadata": {},
   "outputs": [],
   "source": []
  }
 ],
 "metadata": {
  "kernelspec": {
   "display_name": "Python 3",
   "language": "python",
   "name": "python3"
  },
  "language_info": {
   "codemirror_mode": {
    "name": "ipython",
    "version": 3
   },
   "file_extension": ".py",
   "mimetype": "text/x-python",
   "name": "python",
   "nbconvert_exporter": "python",
   "pygments_lexer": "ipython3",
   "version": "3.7.1"
  }
 },
 "nbformat": 4,
 "nbformat_minor": 2
}
