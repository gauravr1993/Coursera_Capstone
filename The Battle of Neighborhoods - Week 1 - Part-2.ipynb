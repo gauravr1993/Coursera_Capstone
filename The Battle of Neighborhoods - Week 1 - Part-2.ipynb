{
 "cells": [
  {
   "cell_type": "markdown",
   "metadata": {},
   "source": [
    "## The Battle of Neighborhoods - Week 1 - Data"
   ]
  },
  {
   "cell_type": "markdown",
   "metadata": {},
   "source": [
    "### Data:"
   ]
  },
  {
   "cell_type": "markdown",
   "metadata": {},
   "source": [
    "As Delhi does not have proper data related to it's district and neighborhood, we have to use mostly API provided by the respective provider and then process it to use in our analysis.<Br><Br>\n",
    "The main markets(locations) known for its eateries are:<Br>1. Connaught Place<Br>2. Hauz Khas<Br>3. Hudson Lane(GTB Nagar)<Br>4. Khan Market<Br>5. Shanti Niketan<Br>6. Chandni Chowk<Br>7. Sec-29, Gurugram<Br>8. Pandara Road"
   ]
  },
  {
   "cell_type": "markdown",
   "metadata": {},
   "source": [
    "Step 1. We are going to analyse the venues at these locations. To get the coordinates of these locations, we are gonna use <b>Google Geocoding API<b><Br>For references: https://developers.google.com/maps/documentation/geocoding/intro"
   ]
  },
  {
   "cell_type": "markdown",
   "metadata": {},
   "source": [
    "Step 2. The geographical coordinates data will be utilized as input for the Foursquare API, that will be leveraged to provision venues information for each location. We will use the Foursquare API to explore the venues in Delhi NCR location."
   ]
  },
  {
   "cell_type": "markdown",
   "metadata": {},
   "source": [
    "Step 3.  Zomato is an Indian restaurant search and discovery service founded in 2008.<Br>  It provides information and reviews of restaurants, including images of menus.<Br>\n",
    "To get information about each venue like ratings, price range, highlights, cuisines etc, we can use <b>Zomato API.<Br>For references: </b> https://developers.zomato.com/api <Br><Br>"
   ]
  },
  {
   "cell_type": "markdown",
   "metadata": {},
   "source": [
    "So, we can use all these APIs , to get all the data we need to perform our analysis. After that, we can use Folium and machine learning techniques to provide a good recommendation to the anyone who wantto"
   ]
  }
 ],
 "metadata": {
  "kernelspec": {
   "display_name": "Python 3",
   "language": "python",
   "name": "python3"
  },
  "language_info": {
   "codemirror_mode": {
    "name": "ipython",
    "version": 3
   },
   "file_extension": ".py",
   "mimetype": "text/x-python",
   "name": "python",
   "nbconvert_exporter": "python",
   "pygments_lexer": "ipython3",
   "version": "3.7.1"
  }
 },
 "nbformat": 4,
 "nbformat_minor": 2
}
